{
 "metadata": {
  "language_info": {
   "codemirror_mode": {
    "name": "ipython",
    "version": 3
   },
   "file_extension": ".py",
   "mimetype": "text/x-python",
   "name": "python",
   "nbconvert_exporter": "python",
   "pygments_lexer": "ipython3",
   "version": "3.8.3-final"
  },
  "orig_nbformat": 2,
  "kernelspec": {
   "name": "python_defaultSpec_1600739207069",
   "display_name": "Python 3.8.3 64-bit ('base': conda)"
  }
 },
 "nbformat": 4,
 "nbformat_minor": 2,
 "cells": [
  {
   "cell_type": "code",
   "execution_count": 5,
   "metadata": {
    "tags": []
   },
   "outputs": [
    {
     "output_type": "stream",
     "name": "stdout",
     "text": "['Date', 'Profit/Losses']\n867884\n984655\n322013\n-69417\n310503\n522857\n1033096\n604885\n-216386\n477532\n893810\n-80353\n779806\n-335203\n697845\n793163\n485070\n584122\n62729\n668179\n899906\n834719\n132003\n309978\n-755566\n1170593\n252788\n1151518\n817256\n570757\n506702\n-1022534\n475062\n779976\n144175\n542494\n359333\n321469\n67780\n471435\n565603\n872480\n789480\n999942\n-1196225\n268997\n-687986\n1150461\n682458\n617856\n824098\n581943\n132864\n448062\n689161\n800701\n1166643\n947333\n578668\n988505\n1139715\n1029471\n687533\n-524626\n158620\n87795\n423389\n840723\n568529\n332067\n989499\n778237\n650000\n-1100387\n-174946\n757143\n445709\n712961\n-1163797\n569899\n768450\n102685\n795914\n60988\n138230\n671099\n"
    }
   ],
   "source": [
    "# import csv file via pathlib and open with csv reader\n",
    "\n",
    "from pathlib import Path\n",
    "import csv\n",
    "\n",
    "# set the file path\n",
    "\n",
    "csvpath = Path('../py_bank/resources/budget_data.csv')\n",
    "\n",
    "#initialize variables to hold monthly profit/loss\n",
    "\n",
    "line_num = 0\n",
    "\n",
    "monthly_pnl = []\n",
    "\n",
    "monthly_change_pnl = []\n",
    "\n",
    "# open the input path as a file object\n",
    "\n",
    "with open(csvpath, 'r') as (csvfile):\n",
    "\n",
    "\n",
    "\n",
    "# pass the file to csv.reader() function and use ',' delimiter\n",
    "\n",
    "    csvreader = csv.reader(csvfile, delimiter=',')\n",
    "\n",
    "# move cursor down to the next row from the start\n",
    "\n",
    "    header = next(csvreader)\n",
    "    line_num =+ 1\n",
    "\n",
    "# print header\n",
    "\n",
    "    print(header)\n",
    "\n",
    "# read each row after the header\n",
    "\n",
    "    for pnl in csvreader:\n",
    "        pnl = int(pnl[1])\n",
    "        monthly_pnl.append(pnl)\n",
    "        \n",
    "        print(pnl)\n"
   ]
  },
  {
   "cell_type": "code",
   "execution_count": 54,
   "metadata": {},
   "outputs": [],
   "source": [
    "# initialize metric variables\n",
    "total_months = 0\n",
    "average_change = 0\n",
    "greatest_profit = 0\n",
    "greatest_loss = 0\n",
    "total_months = 0\n"
   ]
  },
  {
   "cell_type": "code",
   "execution_count": 73,
   "metadata": {},
   "outputs": [],
   "source": [
    "import numpy_financial as npf\n",
    "    "
   ]
  },
  {
   "cell_type": "code",
   "execution_count": 8,
   "metadata": {
    "tags": []
   },
   "outputs": [
    {
     "output_type": "stream",
     "name": "stdout",
     "text": "116771\n-662642\n-391430\n379920\n212354\n510239\n-428211\n-821271\n693918\n416278\n-974163\n860159\n-1115009\n1033048\n95318\n-308093\n99052\n-521393\n605450\n231727\n-65187\n-702716\n177975\n-1065544\n1926159\n-917805\n898730\n-334262\n-246499\n-64055\n-1529236\n1497596\n304914\n-635801\n398319\n-183161\n-37864\n-253689\n403655\n94168\n306877\n-83000\n210462\n-2196167\n1465222\n-956983\n1838447\n-468003\n-64602\n206242\n-242155\n-449079\n315198\n241099\n111540\n365942\n-219310\n-368665\n409837\n151210\n-110244\n-341938\n-1212159\n683246\n-70825\n335594\n417334\n-272194\n-236462\n657432\n-211262\n-128237\n-1750387\n925441\n932089\n-311434\n267252\n-1876758\n1733696\n198551\n-665765\n693229\n-734926\n77242\n532869\n"
    }
   ],
   "source": [
    "# resource used to calculate mothly pnl change - stackoverflow.com (kabrapankaj32)\n",
    "   \n",
    "    for pnl in range(1,len(monthly_pnl)):\n",
    "        pnl = monthly_pnl[pnl] - monthly_pnl[pnl-1]\n",
    "        monthly_change_pnl.append(pnl)\n",
    "        \n",
    "        print(pnl)\n",
    "\n"
   ]
  },
  {
   "cell_type": "code",
   "execution_count": 35,
   "metadata": {
    "tags": []
   },
   "outputs": [
    {
     "output_type": "stream",
     "name": "stdout",
     "text": "Financial Analysis\nTotal Months: 86\nTotal: $38382578\nAverage Change: $-2315.1176470588234\nGreatest Increase in Profits: $1926159\nGreatest Decrease in Profits: $-2196167\n"
    }
   ],
   "source": [
    "message = \"Financial Analysis\"\n",
    "print(message)\n",
    "\n",
    "total_months = len(monthly_pnl)\n",
    "print(f\"Total Months: {total_months}\")\n",
    "\n",
    "total = sum(monthly_pnl)\n",
    "print(f\"Total: ${total}\")\n",
    "\n",
    "average_monthly_change = sum(monthly_change_pnl) / len(monthly_change_pnl)\n",
    "print(f\"Average Change: ${average_monthly_change}\")\n",
    "\n",
    "greatest_profit = max(monthly_change_pnl)\n",
    "print(f\"Greatest Increase in Profits: ${greatest_profit}\")\n",
    "\n",
    "greatest_loss = min(monthly_change_pnl)\n",
    "print(f\"Greatest Decrease in Profits: ${greatest_loss}\")"
   ]
  },
  {
   "cell_type": "code",
   "execution_count": null,
   "metadata": {},
   "outputs": [],
   "source": []
  }
 ]
}