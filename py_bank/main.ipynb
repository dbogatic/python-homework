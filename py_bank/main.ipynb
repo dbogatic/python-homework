{
 "metadata": {
  "language_info": {
   "codemirror_mode": {
    "name": "ipython",
    "version": 3
   },
   "file_extension": ".py",
   "mimetype": "text/x-python",
   "name": "python",
   "nbconvert_exporter": "python",
   "pygments_lexer": "ipython3",
   "version": "3.8.3-final"
  },
  "orig_nbformat": 2,
  "kernelspec": {
   "name": "Python 3.8.3 64-bit ('base': conda)",
   "display_name": "Python 3.8.3 64-bit ('base': conda)",
   "metadata": {
    "interpreter": {
     "hash": "d40f52b9c5fff22e0e411ce66cb8a8127750f0b358a6e9dd1afb39a420e48ccf"
    }
   }
  }
 },
 "nbformat": 4,
 "nbformat_minor": 2,
 "cells": [
  {
   "cell_type": "code",
   "execution_count": 1,
   "metadata": {
    "tags": []
   },
   "outputs": [
    {
     "output_type": "stream",
     "name": "stdout",
     "text": "['Date', 'Profit/Losses']\n867884\n984655\n322013\n-69417\n310503\n522857\n1033096\n604885\n-216386\n477532\n893810\n-80353\n779806\n-335203\n697845\n793163\n485070\n584122\n62729\n668179\n899906\n834719\n132003\n309978\n-755566\n1170593\n252788\n1151518\n817256\n570757\n506702\n-1022534\n475062\n779976\n144175\n542494\n359333\n321469\n67780\n471435\n565603\n872480\n789480\n999942\n-1196225\n268997\n-687986\n1150461\n682458\n617856\n824098\n581943\n132864\n448062\n689161\n800701\n1166643\n947333\n578668\n988505\n1139715\n1029471\n687533\n-524626\n158620\n87795\n423389\n840723\n568529\n332067\n989499\n778237\n650000\n-1100387\n-174946\n757143\n445709\n712961\n-1163797\n569899\n768450\n102685\n795914\n60988\n138230\n671099\n"
    }
   ],
   "source": [
    "# import csv file via pathlib and open with csv reader\n",
    "\n",
    "from pathlib import Path\n",
    "import csv\n",
    "\n",
    "# import financial library\n",
    "\n",
    "import numpy as np\n",
    "import numpy_financial as npf\n",
    "\n",
    "# set the file path\n",
    "\n",
    "csvpath = Path('../py_bank/resources/budget_data.csv')\n",
    "\n",
    "# initialize line num\n",
    "\n",
    "line_num = 0\n",
    "\n",
    "# initialize variables to hold monthly profit/loss\n",
    "\n",
    "monthly_pnl = []\n",
    "\n",
    "monthly_change_pnl = []\n",
    "\n",
    "date_pnl = []\n",
    "\n",
    "# initialize metric variables\n",
    "\n",
    "total = 0\n",
    "average_monthly_change = 0 \n",
    "total_months = 0\n",
    "greatest_profit = 0\n",
    "greatest_loss = 0\n",
    "\n",
    "\n",
    "# open the input path as a file object\n",
    "\n",
    "with open(csvpath, 'r') as (csvfile):\n",
    "\n",
    "# pass the file to csv.reader() function and use ',' delimiter\n",
    "\n",
    "    csvreader = csv.reader(csvfile, delimiter=',')\n",
    "\n",
    "# move cursor down to the next row from the start\n",
    "\n",
    "    header = next(csvreader)\n",
    "\n",
    "# print header\n",
    "\n",
    "    print(header)\n",
    "\n",
    "# read each row after the header; ignore str column, convert pnl to int to read int column\n",
    "\n",
    "    for pnl in csvreader:\n",
    "        date = (pnl[0])\n",
    "        pnl = int(pnl[1])\n",
    "        monthly_pnl.append(pnl)\n",
    "        date_pnl.append(date)\n",
    "        line_num += 1\n",
    "        \n",
    "        print(pnl)\n"
   ]
  },
  {
   "cell_type": "code",
   "execution_count": 2,
   "metadata": {
    "tags": []
   },
   "outputs": [
    {
     "output_type": "stream",
     "name": "stdout",
     "text": "116771\n-662642\n-391430\n379920\n212354\n510239\n-428211\n-821271\n693918\n416278\n-974163\n860159\n-1115009\n1033048\n95318\n-308093\n99052\n-521393\n605450\n231727\n-65187\n-702716\n177975\n-1065544\n1926159\n-917805\n898730\n-334262\n-246499\n-64055\n-1529236\n1497596\n304914\n-635801\n398319\n-183161\n-37864\n-253689\n403655\n94168\n306877\n-83000\n210462\n-2196167\n1465222\n-956983\n1838447\n-468003\n-64602\n206242\n-242155\n-449079\n315198\n241099\n111540\n365942\n-219310\n-368665\n409837\n151210\n-110244\n-341938\n-1212159\n683246\n-70825\n335594\n417334\n-272194\n-236462\n657432\n-211262\n-128237\n-1750387\n925441\n932089\n-311434\n267252\n-1876758\n1733696\n198551\n-665765\n693229\n-734926\n77242\n532869\n"
    }
   ],
   "source": [
    "# resource used to calculate monthly pnl change - stackoverflow.com (user:kabrapankaj32)\n",
    "   \n",
    "for pnl in range(1,len(monthly_pnl)):\n",
    "    pnl = monthly_pnl[pnl] - monthly_pnl[pnl-1]\n",
    "    monthly_change_pnl.append(pnl)\n",
    "\n",
    "    print(pnl)\n",
    "        "
   ]
  },
  {
   "cell_type": "code",
   "execution_count": 3,
   "metadata": {
    "tags": []
   },
   "outputs": [
    {
     "output_type": "stream",
     "name": "stdout",
     "text": "Total Months: 86\nTotal: $38382578\nAverage change: $ -2315.12\nGreatest Increase in Profits: Feb-2012 ($1926159)\nGreatest Decrease in Profits: Sep-2013 ($-2196167)\n"
    }
   ],
   "source": [
    "# financial analysis\n",
    "\n",
    "total_months = len(monthly_pnl)\n",
    "print(f\"Total Months: {total_months}\")\n",
    "\n",
    "total = sum(monthly_pnl)\n",
    "print(f\"Total: ${total}\")\n",
    "\n",
    "average_monthly_change = sum(monthly_change_pnl) / len(monthly_change_pnl)\n",
    "print(f\"Average change: $\", round(average_monthly_change,2))\n",
    "\n",
    "# find index of date field for maximum/minimum change in monthly proifits\n",
    "\n",
    "maxposition = (monthly_change_pnl.index)(max(monthly_change_pnl))\n",
    "maxmonth = date_pnl[maxposition + 1]\n",
    "\n",
    "minposition = (monthly_change_pnl.index)(min(monthly_change_pnl))\n",
    "minmonth = date_pnl[minposition + 1]\n",
    "\n",
    "greatest_profit = max(monthly_change_pnl)\n",
    "print(f\"Greatest Increase in Profits: {maxmonth} (${greatest_profit})\")\n",
    "\n",
    "greatest_loss = min(monthly_change_pnl)\n",
    "print(f\"Greatest Decrease in Profits: {minmonth} (${greatest_loss})\")\n"
   ]
  },
  {
   "cell_type": "code",
   "execution_count": 4,
   "metadata": {},
   "outputs": [],
   "source": [
    "# prepare result output for csv file\n",
    "\n",
    "financial_analysis = [\n",
    "\"Financial Analysis\",\n",
    "\"-------------------------\",\n",
    "f\"Total Months: {total_months}\",\n",
    "f\"Total: ${total}\",\n",
    "f\"Average change: $\" + str(round(average_monthly_change,2)), f\"Greatest Increase in Profits: {maxmonth} (${greatest_profit})\", f\"Greatest Decrease in Profits: {minmonth} (${greatest_loss})\"]\n",
    "\n",
    "# set the output path for csv file\n",
    "\n",
    "output_path = Path('csvfile.csv')\n",
    "\n",
    "# write to csv file\n",
    "\n",
    "with open(output_path, 'w') as csvfile:\n",
    "    csvwriter = csv.writer(csvfile, delimiter='\\n')\n",
    "    csvwriter.writerow(financial_analysis)\n"
   ]
  },
  {
   "cell_type": "code",
   "execution_count": null,
   "metadata": {},
   "outputs": [],
   "source": []
  }
 ]
}