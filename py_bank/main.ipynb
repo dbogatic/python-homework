{
 "metadata": {
  "language_info": {
   "codemirror_mode": {
    "name": "ipython",
    "version": 3
   },
   "file_extension": ".py",
   "mimetype": "text/x-python",
   "name": "python",
   "nbconvert_exporter": "python",
   "pygments_lexer": "ipython3",
   "version": "3.8.3-final"
  },
  "orig_nbformat": 2,
  "kernelspec": {
   "name": "python_defaultSpec_1600722679200",
   "display_name": "Python 3.8.3 64-bit ('base': conda)"
  }
 },
 "nbformat": 4,
 "nbformat_minor": 2,
 "cells": [
  {
   "cell_type": "code",
   "execution_count": 58,
   "metadata": {
    "tags": []
   },
   "outputs": [
    {
     "output_type": "stream",
     "name": "stdout",
     "text": "['Date', 'Profit/Losses']\nJan-2010,867884\n\nFeb-2010,984655\n\nMar-2010,322013\n\nApr-2010,-69417\n\nMay-2010,310503\n\nJun-2010,522857\n\nJul-2010,1033096\n\nAug-2010,604885\n\nSep-2010,-216386\n\nOct-2010,477532\n\nNov-2010,893810\n\nDec-2010,-80353\n\nJan-2011,779806\n\nFeb-2011,-335203\n\nMar-2011,697845\n\nApr-2011,793163\n\nMay-2011,485070\n\nJun-2011,584122\n\nJul-2011,62729\n\nAug-2011,668179\n\nSep-2011,899906\n\nOct-2011,834719\n\nNov-2011,132003\n\nDec-2011,309978\n\nJan-2012,-755566\n\nFeb-2012,1170593\n\nMar-2012,252788\n\nApr-2012,1151518\n\nMay-2012,817256\n\nJun-2012,570757\n\nJul-2012,506702\n\nAug-2012,-1022534\n\nSep-2012,475062\n\nOct-2012,779976\n\nNov-2012,144175\n\nDec-2012,542494\n\nJan-2013,359333\n\nFeb-2013,321469\n\nMar-2013,67780\n\nApr-2013,471435\n\nMay-2013,565603\n\nJun-2013,872480\n\nJul-2013,789480\n\nAug-2013,999942\n\nSep-2013,-1196225\n\nOct-2013,268997\n\nNov-2013,-687986\n\nDec-2013,1150461\n\nJan-2014,682458\n\nFeb-2014,617856\n\nMar-2014,824098\n\nApr-2014,581943\n\nMay-2014,132864\n\nJun-2014,448062\n\nJul-2014,689161\n\nAug-2014,800701\n\nSep-2014,1166643\n\nOct-2014,947333\n\nNov-2014,578668\n\nDec-2014,988505\n\nJan-2015,1139715\n\nFeb-2015,1029471\n\nMar-2015,687533\n\nApr-2015,-524626\n\nMay-2015,158620\n\nJun-2015,87795\n\nJul-2015,423389\n\nAug-2015,840723\n\nSep-2015,568529\n\nOct-2015,332067\n\nNov-2015,989499\n\nDec-2015,778237\n\nJan-2016,650000\n\nFeb-2016,-1100387\n\nMar-2016,-174946\n\nApr-2016,757143\n\nMay-2016,445709\n\nJun-2016,712961\n\nJul-2016,-1163797\n\nAug-2016,569899\n\nSep-2016,768450\n\nOct-2016,102685\n\nNov-2016,795914\n\nDec-2016,60988\n\nJan-2017,138230\n\nFeb-2017,671099\n\n"
    }
   ],
   "source": [
    "# import csv file via pathlib and open with csv reader\n",
    "\n",
    "from pathlib import Path\n",
    "import csv\n",
    "\n",
    "# set the file path\n",
    "\n",
    "csvpath = Path('../py_bank/resources/budget_data.csv')\n",
    "\n",
    "#initialize variables to hold monthly profit/loss\n",
    "\n",
    "line_num = 0\n",
    "\n",
    "# open the input path as a file object\n",
    "\n",
    "with open(csvpath, 'r') as (monthly_pnl):\n",
    "\n",
    "# pass the file to csv.reader() function and use ',' delimiter\n",
    "\n",
    "    csvreader = csv.reader(monthly_pnl, delimiter=',')\n",
    "\n",
    "# move cursor down to the next row from the start\n",
    "\n",
    "    header = next(csvreader)\n",
    "    line_num += 1\n",
    "\n",
    "# print header\n",
    "\n",
    "    print(header)\n",
    "\n",
    "# read each row after the header\n",
    "\n",
    "    for pnl  in monthly_pnl:\n",
    "        print(pnl)\n"
   ]
  },
  {
   "cell_type": "code",
   "execution_count": 54,
   "metadata": {},
   "outputs": [],
   "source": [
    "# initialize metric variables\n",
    "\n",
    "total = 0\n",
    "average = 0\n",
    "max_profit = 0\n",
    "min_loss = 0\n",
    "count = 0\n"
   ]
  },
  {
   "cell_type": "code",
   "execution_count": null,
   "metadata": {},
   "outputs": [],
   "source": []
  }
 ]
}