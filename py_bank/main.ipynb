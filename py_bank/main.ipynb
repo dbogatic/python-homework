{
 "metadata": {
  "language_info": {
   "codemirror_mode": {
    "name": "ipython",
    "version": 3
   },
   "file_extension": ".py",
   "mimetype": "text/x-python",
   "name": "python",
   "nbconvert_exporter": "python",
   "pygments_lexer": "ipython3",
   "version": "3.8.3-final"
  },
  "orig_nbformat": 2,
  "kernelspec": {
   "name": "python_defaultSpec_1600730102505",
   "display_name": "Python 3.8.3 64-bit ('base': conda)"
  }
 },
 "nbformat": 4,
 "nbformat_minor": 2,
 "cells": [
  {
   "cell_type": "code",
   "execution_count": 72,
   "metadata": {
    "tags": []
   },
   "outputs": [
    {
     "output_type": "stream",
     "name": "stdout",
     "text": "<class '_csv.reader'>\n['Date', 'Profit/Losses']\n867884\n984655\n322013\n-69417\n310503\n522857\n1033096\n604885\n-216386\n477532\n893810\n-80353\n779806\n-335203\n697845\n793163\n485070\n584122\n62729\n668179\n899906\n834719\n132003\n309978\n-755566\n1170593\n252788\n1151518\n817256\n570757\n506702\n-1022534\n475062\n779976\n144175\n542494\n359333\n321469\n67780\n471435\n565603\n872480\n789480\n999942\n-1196225\n268997\n-687986\n1150461\n682458\n617856\n824098\n581943\n132864\n448062\n689161\n800701\n1166643\n947333\n578668\n988505\n1139715\n1029471\n687533\n-524626\n158620\n87795\n423389\n840723\n568529\n332067\n989499\n778237\n650000\n-1100387\n-174946\n757143\n445709\n712961\n-1163797\n569899\n768450\n102685\n795914\n60988\n138230\n671099\n"
    }
   ],
   "source": [
    "# import csv file via pathlib and open with csv reader\n",
    "\n",
    "from pathlib import Path\n",
    "import csv\n",
    "\n",
    "# set the file path\n",
    "\n",
    "csvpath = Path('../py_bank/resources/budget_data.csv')\n",
    "\n",
    "#initialize variables to hold monthly profit/loss\n",
    "\n",
    "line_num = 0\n",
    "\n",
    "monthly_pnl = []\n",
    "\n",
    "# open the input path as a file object\n",
    "\n",
    "with open(csvpath, 'r') as (csvfile):\n",
    "\n",
    "    print(type(csvreader))\n",
    "\n",
    "# pass the file to csv.reader() function and use ',' delimiter\n",
    "\n",
    "    csvreader = csv.reader(csvfile, delimiter=',')\n",
    "\n",
    "# move cursor down to the next row from the start\n",
    "\n",
    "    header = next(csvreader)\n",
    "    line_num =+ 1\n",
    "\n",
    "# print header\n",
    "\n",
    "    print(header)\n",
    "\n",
    "# read each row after the header\n",
    "\n",
    "    for pnl in csvreader:\n",
    "        pnl = int(pnl[1])\n",
    "        monthly_pnl.append(pnl)\n",
    "\n",
    "\n",
    "        print(pnl)\n"
   ]
  },
  {
   "cell_type": "code",
   "execution_count": 54,
   "metadata": {},
   "outputs": [],
   "source": [
    "# initialize metric variables\n",
    "total_months = 0\n",
    "average_change = 0\n",
    "max_profit = 0\n",
    "min_loss = 0\n",
    "total_months = 0\n"
   ]
  },
  {
   "cell_type": "code",
   "execution_count": 73,
   "metadata": {},
   "outputs": [],
   "source": [
    "import numpy_financial as npf\n",
    "    "
   ]
  },
  {
   "cell_type": "code",
   "execution_count": 101,
   "metadata": {
    "tags": []
   },
   "outputs": [
    {
     "output_type": "stream",
     "name": "stdout",
     "text": "Financial Analysis\n"
    }
   ],
   "source": [
    "print(r\"Financial Analysis\")"
   ]
  },
  {
   "cell_type": "code",
   "execution_count": 100,
   "metadata": {
    "tags": []
   },
   "outputs": [
    {
     "output_type": "stream",
     "name": "stdout",
     "text": "Total Months: 86\n"
    }
   ],
   "source": [
    "total_months = len(monthly_pnl)\n",
    "print(f\"Total Months: {total_months}\")"
   ]
  },
  {
   "cell_type": "code",
   "execution_count": 103,
   "metadata": {
    "tags": []
   },
   "outputs": [
    {
     "output_type": "stream",
     "name": "stdout",
     "text": "Total: $38382578\n"
    }
   ],
   "source": [
    "total = sum(monthly_pnl)\n",
    "print(f\"Total: ${total}\")\n",
    "\n"
   ]
  },
  {
   "cell_type": "code",
   "execution_count": 107,
   "metadata": {
    "tags": []
   },
   "outputs": [
    {
     "output_type": "error",
     "ename": "NameError",
     "evalue": "name 'mean' is not defined",
     "traceback": [
      "\u001b[0;31m---------------------------------------------------------------------------\u001b[0m",
      "\u001b[0;31mNameError\u001b[0m                                 Traceback (most recent call last)",
      "\u001b[0;32m<ipython-input-107-7559db5f9a64>\u001b[0m in \u001b[0;36m<module>\u001b[0;34m\u001b[0m\n\u001b[0;32m----> 1\u001b[0;31m \u001b[0maverage_change\u001b[0m \u001b[0;34m=\u001b[0m \u001b[0mmean\u001b[0m\u001b[0;34m(\u001b[0m\u001b[0mmonthly_pnl\u001b[0m\u001b[0;34m)\u001b[0m\u001b[0;34m\u001b[0m\u001b[0;34m\u001b[0m\u001b[0m\n\u001b[0m\u001b[1;32m      2\u001b[0m \u001b[0mprint\u001b[0m\u001b[0;34m(\u001b[0m\u001b[0maverage_change\u001b[0m\u001b[0;34m)\u001b[0m\u001b[0;34m\u001b[0m\u001b[0;34m\u001b[0m\u001b[0m\n",
      "\u001b[0;31mNameError\u001b[0m: name 'mean' is not defined"
     ]
    }
   ],
   "source": [
    "average_change = df\n",
    "print(average_change)"
   ]
  },
  {
   "cell_type": "code",
   "execution_count": null,
   "metadata": {},
   "outputs": [],
   "source": []
  }
 ]
}