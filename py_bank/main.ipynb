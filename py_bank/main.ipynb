{
 "metadata": {
  "language_info": {
   "codemirror_mode": {
    "name": "ipython",
    "version": 3
   },
   "file_extension": ".py",
   "mimetype": "text/x-python",
   "name": "python",
   "nbconvert_exporter": "python",
   "pygments_lexer": "ipython3",
   "version": "3.8.3-final"
  },
  "orig_nbformat": 2,
  "kernelspec": {
   "name": "python_defaultSpec_1600716400317",
   "display_name": "Python 3.8.3 64-bit ('base': conda)"
  }
 },
 "nbformat": 4,
 "nbformat_minor": 2,
 "cells": [
  {
   "cell_type": "code",
   "execution_count": 54,
   "metadata": {
    "tags": []
   },
   "outputs": [
    {
     "output_type": "stream",
     "name": "stdout",
     "text": "<class '_csv.reader'>\n['Date', 'Profit/Losses']\n['Jan-2010', '867884']\n['Feb-2010', '984655']\n['Mar-2010', '322013']\n['Apr-2010', '-69417']\n['May-2010', '310503']\n['Jun-2010', '522857']\n['Jul-2010', '1033096']\n['Aug-2010', '604885']\n['Sep-2010', '-216386']\n['Oct-2010', '477532']\n['Nov-2010', '893810']\n['Dec-2010', '-80353']\n['Jan-2011', '779806']\n['Feb-2011', '-335203']\n['Mar-2011', '697845']\n['Apr-2011', '793163']\n['May-2011', '485070']\n['Jun-2011', '584122']\n['Jul-2011', '62729']\n['Aug-2011', '668179']\n['Sep-2011', '899906']\n['Oct-2011', '834719']\n['Nov-2011', '132003']\n['Dec-2011', '309978']\n['Jan-2012', '-755566']\n['Feb-2012', '1170593']\n['Mar-2012', '252788']\n['Apr-2012', '1151518']\n['May-2012', '817256']\n['Jun-2012', '570757']\n['Jul-2012', '506702']\n['Aug-2012', '-1022534']\n['Sep-2012', '475062']\n['Oct-2012', '779976']\n['Nov-2012', '144175']\n['Dec-2012', '542494']\n['Jan-2013', '359333']\n['Feb-2013', '321469']\n['Mar-2013', '67780']\n['Apr-2013', '471435']\n['May-2013', '565603']\n['Jun-2013', '872480']\n['Jul-2013', '789480']\n['Aug-2013', '999942']\n['Sep-2013', '-1196225']\n['Oct-2013', '268997']\n['Nov-2013', '-687986']\n['Dec-2013', '1150461']\n['Jan-2014', '682458']\n['Feb-2014', '617856']\n['Mar-2014', '824098']\n['Apr-2014', '581943']\n['May-2014', '132864']\n['Jun-2014', '448062']\n['Jul-2014', '689161']\n['Aug-2014', '800701']\n['Sep-2014', '1166643']\n['Oct-2014', '947333']\n['Nov-2014', '578668']\n['Dec-2014', '988505']\n['Jan-2015', '1139715']\n['Feb-2015', '1029471']\n['Mar-2015', '687533']\n['Apr-2015', '-524626']\n['May-2015', '158620']\n['Jun-2015', '87795']\n['Jul-2015', '423389']\n['Aug-2015', '840723']\n['Sep-2015', '568529']\n['Oct-2015', '332067']\n['Nov-2015', '989499']\n['Dec-2015', '778237']\n['Jan-2016', '650000']\n['Feb-2016', '-1100387']\n['Mar-2016', '-174946']\n['Apr-2016', '757143']\n['May-2016', '445709']\n['Jun-2016', '712961']\n['Jul-2016', '-1163797']\n['Aug-2016', '569899']\n['Sep-2016', '768450']\n['Oct-2016', '102685']\n['Nov-2016', '795914']\n['Dec-2016', '60988']\n['Jan-2017', '138230']\n['Feb-2017', '671099']\n"
    }
   ],
   "source": [
    "# import csv file via pathlib and open with csv reader\n",
    "\n",
    "from pathlib import Path\n",
    "import csv\n",
    "\n",
    "# set the file path\n",
    "\n",
    "csvpath = Path('../py_bank/resources/budget_data.csv')\n",
    "\n",
    "#initialize variables to hold monthly profit/loss\n",
    "\n",
    "monthly_pnl = []\n",
    "\n",
    "line_num = 0\n",
    "\n",
    "# open the input path as a file object and select type of data\n",
    "\n",
    "with open(csvpath, 'r') as csvfile:\n",
    "    print(type(csvreader))\n",
    "\n",
    "# pass the file to csv.reader() function and use ',' delimiter\n",
    "\n",
    "    csvreader = csv.reader(csvfile, delimiter=',')\n",
    "\n",
    "# move cursor down to the next row from the start\n",
    "\n",
    "    header = next(csvreader)\n",
    "    line_num += 1\n",
    "\n",
    "# print header\n",
    "\n",
    "    print(header)\n",
    "\n",
    "# read each row after the header\n",
    "\n",
    "    for pnl  in csvreader:\n",
    "        print(pnl)\n",
    "        monthly_pnl.append(pnl)\n",
    "   \n",
    "\n",
    "# initialize metric variables\n",
    "\n",
    "total = 0\n",
    "average = 0\n",
    "max_profit = 0\n",
    "min_loss = 0\n",
    "count = 0\n"
   ]
  },
  {
   "cell_type": "code",
   "execution_count": null,
   "metadata": {},
   "outputs": [],
   "source": []
  }
 ]
}